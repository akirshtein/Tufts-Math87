{
 "cells": [
  {
   "cell_type": "markdown",
   "metadata": {},
   "source": [
    "Example: You sell sandwiches. 70% of people choose chicken, the rest choose something else."
   ]
  },
  {
   "cell_type": "code",
   "execution_count": 5,
   "metadata": {},
   "outputs": [],
   "source": [
    "from numpy.random import default_rng\n",
    "import numpy as np\n",
    "\n",
    "def poisson(p,m):\n",
    "    return (1.*p**m/ np.math.factorial(m))*np.exp(-p)\n",
    "\n",
    "def arrival(p=1./7,M = 10,rng=default_rng()):\n",
    "    qq = list(map(lambda m:poisson(p,m),range(M)))\n",
    "    qq = qq + [1-sum(qq,0)]\n",
    "    \n",
    "    return rng.choice(list(range(M+1)),p=qq)"
   ]
  },
  {
   "cell_type": "code",
   "execution_count": 6,
   "metadata": {},
   "outputs": [],
   "source": [
    "N=365\n",
    "\n",
    "customers=[arrival(p=5, M=25) for n in range(N)]"
   ]
  },
  {
   "cell_type": "code",
   "execution_count": 8,
   "metadata": {},
   "outputs": [],
   "source": [
    "rng=default_rng()\n",
    "\n",
    "chicken=np.zeros(N)\n",
    "\n",
    "pch=0.7\n",
    "\n",
    "for n in range(N):\n",
    "    for i in range(customers[n]):\n",
    "        chicken[n]+=rng.choice([0,1], p=[pch, 1-pch])\n",
    "        \n",
    "chicken_2=[sum([rng.choice([0,1], p=[pch, 1-pch]) for i in range(customers[n])])\n",
    "           for n in range(N)]"
   ]
  },
  {
   "cell_type": "code",
   "execution_count": 9,
   "metadata": {},
   "outputs": [
    {
     "name": "stdout",
     "output_type": "stream",
     "text": [
      "gone bad: 6724.0\n",
      "unsatisfied: 0\n"
     ]
    }
   ],
   "source": [
    "avg_chicken=20\n",
    "\n",
    "unsatisfied=sum((np.array(chicken)-avg_chicken)[(np.array(chicken)-avg_chicken)>0])\n",
    "gone_bad=-sum((np.array(chicken)-avg_chicken)[(np.array(chicken)-avg_chicken)<0])\n",
    "\n",
    "print(\"gone bad:\", gone_bad)\n",
    "print(\"unsatisfied:\", unsatisfied)"
   ]
  },
  {
   "cell_type": "code",
   "execution_count": 14,
   "metadata": {},
   "outputs": [
    {
     "name": "stdout",
     "output_type": "stream",
     "text": [
      "trial 1\n",
      " gone bad: 1222\n",
      " unsatisfied: 48\n",
      "trial 2\n",
      " gone bad: 1155\n",
      " unsatisfied: 81\n",
      "trial 3\n",
      " gone bad: 1137\n",
      " unsatisfied: 87\n",
      "trial 4\n",
      " gone bad: 1159\n",
      " unsatisfied: 77\n",
      "trial 5\n",
      " gone bad: 1195\n",
      " unsatisfied: 75\n",
      "trial 6\n",
      " gone bad: 1189\n",
      " unsatisfied: 75\n",
      "trial 7\n",
      " gone bad: 1094\n",
      " unsatisfied: 83\n",
      "trial 8\n",
      " gone bad: 1176\n",
      " unsatisfied: 71\n",
      "trial 9\n",
      " gone bad: 1159\n",
      " unsatisfied: 75\n",
      "trial 10\n",
      " gone bad: 1133\n",
      " unsatisfied: 65\n",
      "trial 11\n",
      " gone bad: 1182\n",
      " unsatisfied: 91\n",
      "trial 12\n",
      " gone bad: 1118\n",
      " unsatisfied: 79\n",
      "trial 13\n",
      " gone bad: 1139\n",
      " unsatisfied: 85\n",
      "trial 14\n",
      " gone bad: 1192\n",
      " unsatisfied: 58\n",
      "trial 15\n",
      " gone bad: 1227\n",
      " unsatisfied: 58\n",
      "trial 16\n",
      " gone bad: 1173\n",
      " unsatisfied: 93\n",
      "trial 17\n",
      " gone bad: 1158\n",
      " unsatisfied: 94\n",
      "trial 18\n",
      " gone bad: 1155\n",
      " unsatisfied: 91\n",
      "trial 19\n",
      " gone bad: 1153\n",
      " unsatisfied: 77\n",
      "trial 20\n",
      " gone bad: 1116\n",
      " unsatisfied: 82\n"
     ]
    }
   ],
   "source": [
    "trials=20\n",
    "avg_chicken=10\n",
    "avg_customers=10\n",
    "M=100\n",
    "\n",
    "pch=0.7\n",
    "\n",
    "for t in range(trials):\n",
    "    print(\"trial\", t+1)\n",
    "    customers=[arrival(p=avg_customers, M=M) for n in range(N)]\n",
    "    chicken=np.array([sum([rng.choice([1,0], p=[pch, 1-pch]) for i in range(customers[n])])\n",
    "           for n in range(N)])\n",
    "    \n",
    "    unsatisfied=sum((chicken-avg_chicken)[(chicken-avg_chicken)>0])\n",
    "    gone_bad=-sum((chicken-avg_chicken)[(chicken-avg_chicken)<0])\n",
    "    print(\" gone bad:\", gone_bad)\n",
    "    print(\" unsatisfied:\", unsatisfied)"
   ]
  },
  {
   "cell_type": "code",
   "execution_count": null,
   "metadata": {},
   "outputs": [],
   "source": []
  }
 ],
 "metadata": {
  "kernelspec": {
   "display_name": "Python 3",
   "language": "python",
   "name": "python3"
  },
  "language_info": {
   "codemirror_mode": {
    "name": "ipython",
    "version": 3
   },
   "file_extension": ".py",
   "mimetype": "text/x-python",
   "name": "python",
   "nbconvert_exporter": "python",
   "pygments_lexer": "ipython3",
   "version": "3.6.7"
  }
 },
 "nbformat": 4,
 "nbformat_minor": 4
}
